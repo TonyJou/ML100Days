{
 "cells": [
  {
   "cell_type": "code",
   "execution_count": 10,
   "metadata": {},
   "outputs": [],
   "source": [
    "# 定義 mean_squared_error 這個函數, 計算並傳回 MSE\n",
    "def mean_squared_error():\n",
    "    mae = MAE = pow(sum(abs(y - yp)), 2) / len(y)\n",
    "    return mae"
   ]
  },
  {
   "cell_type": "code",
   "execution_count": 11,
   "metadata": {},
   "outputs": [],
   "source": [
    "#Cornell Birdcall Identification\n",
    "#1. 鳥類是在大自然環境中高等的生物，在環境物染和食物鏈受到破壞時，鳥類生存品質會受到影響。\n",
    "#這個專案想藉由分析鳥的鳴叫聲來快速的了解鳥類族群的變化，好對於環境改變有所察覺。\n",
    "\n",
    "#2. audio file錄下的鳥聲\n",
    "#3. 資料結構：為非結構化的音訊\n",
    "#4. ROC curve"
   ]
  },
  {
   "cell_type": "code",
   "execution_count": null,
   "metadata": {},
   "outputs": [],
   "source": [
    "#1. 每個月所做業績和去年同期比上升超過5%\n",
    "#2. 從財務報表取得資料\n",
    "#3. 結構化\n",
    "#4. 簡單數據計算"
   ]
  }
 ],
 "metadata": {
  "anaconda-cloud": {},
  "kernelspec": {
   "display_name": "Python 3",
   "language": "python",
   "name": "python3"
  },
  "language_info": {
   "codemirror_mode": {
    "name": "ipython",
    "version": 3
   },
   "file_extension": ".py",
   "mimetype": "text/x-python",
   "name": "python",
   "nbconvert_exporter": "python",
   "pygments_lexer": "ipython3",
   "version": "3.8.3"
  }
 },
 "nbformat": 4,
 "nbformat_minor": 1
}
